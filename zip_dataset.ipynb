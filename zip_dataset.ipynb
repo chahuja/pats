{
 "cells": [
  {
   "cell_type": "code",
   "execution_count": 2,
   "metadata": {},
   "outputs": [],
   "source": [
    "import os\n",
    "import zipfile\n",
    "from tqdm import tqdm\n",
    "from data import Modality\n",
    "\n",
    "def zipdir(path, ziph):\n",
    "    # ziph is zipfile handle\n",
    "    for root, dirs, files in tqdm(os.walk(path)):\n",
    "        for file in files:\n",
    "            ziph.write(os.path.join(root, file))"
   ]
  },
  {
   "cell_type": "code",
   "execution_count": null,
   "metadata": {},
   "outputs": [
    {
     "name": "stderr",
     "output_type": "stream",
     "text": [
      "  0%|          | 0/25 [00:00<?, ?it/s]\n",
      "0it [00:00, ?it/s]\u001b[A\n",
      "  4%|▍         | 1/25 [16:06<6:26:42, 966.77s/it]\n",
      "0it [00:00, ?it/s]\u001b[A\n",
      "  8%|▊         | 2/25 [34:59<6:29:43, 1016.67s/it]\n",
      "0it [00:00, ?it/s]\u001b[A\n",
      " 12%|█▏        | 3/25 [49:03<5:53:42, 964.67s/it] \n",
      "0it [00:00, ?it/s]\u001b[A\n",
      " 16%|█▌        | 4/25 [53:14<4:22:43, 750.66s/it]\n",
      "0it [00:00, ?it/s]\u001b[A\n",
      " 20%|██        | 5/25 [1:00:48<3:40:32, 661.64s/it]\n",
      "0it [00:00, ?it/s]\u001b[A\n",
      " 24%|██▍       | 6/25 [1:10:37<3:22:36, 639.80s/it]\n",
      "0it [00:00, ?it/s]\u001b[A\n",
      " 28%|██▊       | 7/25 [1:15:47<2:42:16, 540.89s/it]\n",
      "0it [00:00, ?it/s]\u001b[A\n",
      " 32%|███▏      | 8/25 [1:43:15<4:07:24, 873.21s/it]\n",
      "0it [00:00, ?it/s]\u001b[A\n",
      " 36%|███▌      | 9/25 [1:52:49<3:28:50, 783.15s/it]\n",
      "0it [00:00, ?it/s]\u001b[A"
     ]
    }
   ],
   "source": [
    "basePath = 'pats/data'\n",
    "common_files = ['cmu_intervals_df.csv', 'cmu_intervals_df_transforms.csv', 'missing_intervals.h5']\n",
    "#speaker = 'lec_cosmic'\n",
    "for speaker in tqdm(Modality('pats/data').speakers):\n",
    "  with zipfile.ZipFile(os.path.join(basePath,'zips/{}.zip'.format(speaker)), 'w', zipfile.ZIP_DEFLATED) as zipf:\n",
    "    zipdir(os.path.join(basePath, 'processed/{}/'.format(speaker)), zipf)\n",
    "    for f in common_files:\n",
    "      zipf.write(os.path.join(basePath, f))"
   ]
  },
  {
   "cell_type": "code",
   "execution_count": null,
   "metadata": {},
   "outputs": [],
   "source": []
  }
 ],
 "metadata": {
  "kernelspec": {
   "display_name": "Python 3",
   "language": "python",
   "name": "python3"
  },
  "language_info": {
   "codemirror_mode": {
    "name": "ipython",
    "version": 3
   },
   "file_extension": ".py",
   "mimetype": "text/x-python",
   "name": "python",
   "nbconvert_exporter": "python",
   "pygments_lexer": "ipython3",
   "version": "3.7.3"
  }
 },
 "nbformat": 4,
 "nbformat_minor": 4
}
